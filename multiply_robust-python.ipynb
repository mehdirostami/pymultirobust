{
 "cells": [
  {
   "cell_type": "code",
   "execution_count": 1,
   "metadata": {},
   "outputs": [
    {
     "name": "stderr",
     "output_type": "stream",
     "text": [
      "/home/mr/anaconda3/lib/python3.6/site-packages/ipykernel_launcher.py:23: FutureWarning:\n",
      "\n",
      "Passing a negative integer is deprecated in version 1.0 and will not be supported in future version. Instead, use None to not limit the column width.\n",
      "\n",
      "[MLENS] backend: threading\n"
     ]
    }
   ],
   "source": [
    "import numpy as np \n",
    "import pandas as pd\n",
    "import csv\n",
    "from scipy.optimize import fsolve\n",
    "import seaborn as sns\n",
    "import matplotlib.pyplot as plt\n",
    "import matplotlib \n",
    "from cycler import cycler\n",
    "from matplotlib.ticker import MaxNLocator\n",
    "import os\n",
    "import plotly.express as px\n",
    "import torch\n",
    "from rpy2.robjects.packages import importr\n",
    "import rpy2.robjects as ro\n",
    "import rpy2.robjects.numpy2ri\n",
    "rpy2.robjects.numpy2ri.activate()\n",
    "\n",
    "from sklearn.preprocessing import StandardScaler\n",
    "from IPython.display import display, HTML\n",
    "pd.set_option('display.max_rows', None)\n",
    "pd.set_option('display.max_columns', None)\n",
    "pd.set_option('display.width', None)\n",
    "pd.set_option('display.max_colwidth', -1)\n",
    "import re\n",
    "import utils\n",
    "import Rsuperlearner\n",
    "import training\n",
    "\n",
    "from plotly.subplots import make_subplots\n",
    "import plotly.graph_objects as go\n",
    "import dcor\n",
    "\n",
    "import cvxpy as cp"
   ]
  },
  {
   "cell_type": "code",
   "execution_count": 2,
   "metadata": {},
   "outputs": [],
   "source": [
    "from rpy2.robjects.packages import importr\n",
    "import rpy2.robjects as ro\n",
    "import rpy2.robjects.numpy2ri\n",
    "rpy2.robjects.numpy2ri.activate()\n"
   ]
  },
  {
   "cell_type": "code",
   "execution_count": 3,
   "metadata": {},
   "outputs": [],
   "source": [
    "n, p = 1000, 10\n",
    "\n",
    "x = np.random.normal(0, .5, size=(n, p))\n",
    "\n",
    "alpha = np.random.uniform(.2, .5, size=(p, 1))\n",
    "beta = np.random.uniform(.2, .5, size=(p, 1))\n",
    "\n",
    "xalpha = np.dot(x, alpha)\n",
    "xbeta = np.dot(x, beta)\n",
    "\n",
    "pr = 1/(1 + np.exp(-xalpha))\n",
    "A = np.random.binomial(1, pr, size=(n, 1))\n",
    "\n",
    "y = -1 + A + xbeta + np.random.normal(0, 1, size=(n, 1))\n"
   ]
  },
  {
   "cell_type": "code",
   "execution_count": 52,
   "metadata": {},
   "outputs": [],
   "source": [
    "def save_temporary_data_for_R(yhat1_df, yhat0_df, ps_df, A, y, file_name):\n",
    "    \n",
    "    n = A.shape[0]\n",
    "    \n",
    "    data = pd.DataFrame(columns=['A', 'y'], index=[c for c in range(n)])\n",
    "    \n",
    "    data['A'] = A\n",
    "    data['y'] = y\n",
    "    \n",
    "    data.to_csv('A_y-' + file_name + '.csv', index=False)\n",
    "    ps_df.to_csv('ps-' + file_name + '.csv', index=False)\n",
    "    yhat1_df.to_csv('yhat1-' + file_name + '.csv', index=False)\n",
    "    yhat0_df.to_csv('yhat0-' + file_name + '.csv', index=False)\n",
    "        \n",
    "    return\n",
    "\n",
    "def read_temporary_data_in_R(file_name):\n",
    "    \n",
    "    _ = ro.r(f\"A_y_data <- read.csv('A_y-{file_name}.csv')\")\n",
    "    _ = ro.r(f\"ps_data <- read.csv('ps-{file_name}.csv')\")\n",
    "    _ = ro.r(f\"yhat1_data <- read.csv('yhat1-{file_name}.csv')\")\n",
    "    _ = ro.r(f\"yhat0_data <- read.csv('yhat0-{file_name}.csv')\")\n",
    "\n",
    "    _ = ro.r('A = A_y_data[, 1]')\n",
    "    _ = ro.r('y = A_y_data[, 2]')\n",
    "    _ = ro.r('ps = ps_data')\n",
    "    _ = ro.r('yhat1 = yhat1_data')\n",
    "    _ = ro.r('yhat0 = yhat0_data')\n",
    "    \n",
    "    return\n"
   ]
  },
  {
   "cell_type": "code",
   "execution_count": 58,
   "metadata": {},
   "outputs": [],
   "source": [
    "# g.hat <- matrix(0, n, g.col)\n",
    "\n",
    "# Qs = do.call(cbind, Qs)\n",
    "# ps = do.call(cbind, ps)\n",
    "# g.hat = cbind(Qs, ps)\n",
    "\n",
    "def run_MR_in_R():\n",
    "    _ = ro.r(\"\"\"\n",
    "    MREst.mean <- function(y, A, Qs, ps)\n",
    "    {\n",
    "        \n",
    "        J <- NCOL(ps)\n",
    "        K <- NCOL(Qs)\n",
    "        g.col <- J + K \n",
    "        n <- length(y)\n",
    "\n",
    "        m <- sum(A) # number of observed subjects\n",
    "        \n",
    "        g.hat = cbind(Qs, ps)\n",
    "        g.hat <- scale(g.hat, center = TRUE, scale = FALSE)[A == 1, ]\n",
    "        \n",
    "        # define the function to be minimized\n",
    "        Fn <- function(rho, ghat){ -sum(log(1 + ghat %*% rho)) }\n",
    "        Grd <- function(rho, ghat){ -colSums(ghat / c(1 + ghat %*% rho)) }\n",
    "        \n",
    "        # calculate the weights\n",
    "        rho.hat <- constrOptim(theta = rep(0, g.col), \n",
    "                             f = Fn, \n",
    "                             grad = Grd, \n",
    "                             ui = g.hat, \n",
    "                             ci = rep(1 / m - 1, m), \n",
    "                             ghat = g.hat\n",
    "                             )$par\n",
    "        wts <- c(1 / m / (1 + g.hat %*% rho.hat))\n",
    "        wts <- wts / sum(wts)\n",
    "        estimate <- sum(y[A == 1] * wts)\n",
    "        return(list(estimate = estimate, weights = wts))\n",
    "\n",
    "    }\n",
    "    \"\"\")\n",
    "    return\n",
    "    "
   ]
  },
  {
   "cell_type": "code",
   "execution_count": 53,
   "metadata": {},
   "outputs": [],
   "source": [
    "def MR(y, A, yhat1_df, yhat0_df, ps_df, temporary_csv_name):\n",
    "    \n",
    "    run_MR_in_R()\n",
    "    \n",
    "    save_temporary_data_for_R(yhat1_df, yhat0_df, ps_df, A, y, file_name=temporary_csv_name)\n",
    "    read_temporary_data_in_R(temporary_csv_name)\n",
    "    \n",
    "    uuu = importr(\"MultiRobust\")\n",
    "    ro.r('library(\"MultiRobust\")')\n",
    "\n",
    "    ro.r('result <- MREst.mean(y=y, A=A, Qs=yhat1, ps=ps)')\n",
    "    beta1 = np.array(ro.r(\"result$estimate\"))[0]\n",
    "\n",
    "    ro.r('result <- MREst.mean(y=y, A=1-A, Qs=yhat0, ps=1-ps)')\n",
    "    beta0 = np.array(ro.r(\"result$estimate\"))[0]\n",
    "\n",
    "    return beta1 - beta0"
   ]
  },
  {
   "cell_type": "code",
   "execution_count": 59,
   "metadata": {},
   "outputs": [
    {
     "data": {
      "text/plain": [
       "1.0323983886865937"
      ]
     },
     "execution_count": 59,
     "metadata": {},
     "output_type": "execute_result"
    }
   ],
   "source": [
    "MR(y=data[['y']], \n",
    "   A=data[['A']], \n",
    "   yhat1_df=data[['oracle_yhat1', 'nnY_H_300_300_300_L1_0.01_L1TG_0.0_yhat1']],\n",
    "   yhat0_df=data[['oracle_yhat0', 'nnY_H_300_300_300_L1_0.01_L1TG_0.0_yhat0']],\n",
    "   ps_df=data[['ps_oracle', 'ps_nnA_H_300_300_300_L1_0.01_L1TG_0.0']],\n",
    "   temporary_csv_name='temporary-MR-data')\n"
   ]
  },
  {
   "cell_type": "code",
   "execution_count": null,
   "metadata": {},
   "outputs": [],
   "source": []
  },
  {
   "cell_type": "code",
   "execution_count": 9,
   "metadata": {},
   "outputs": [
    {
     "name": "stdout",
     "output_type": "stream",
     "text": [
      "(7500, 402)\n"
     ]
    }
   ],
   "source": [
    "from IPython.display import display\n",
    "\n",
    "import importlib\n",
    "importlib.reload(utils)\n",
    "import importlib\n",
    "importlib.reload(training)\n",
    "\n",
    "temp_results1 = []\n",
    "\n",
    "r3 = 0.25\n",
    "r4 = 0.25\n",
    "r1, r2 = 0, 0\n",
    "\n",
    "nonlin_portion = .3\n",
    "True_TE = 1\n",
    "\n",
    "for n, p in [(7500, 300), (750, 32)]:\n",
    "    \n",
    "    covariates_colnames = ['x' + str(jj) for jj in range(p)]\n",
    "    \n",
    "    for niter in range(1, 2):\n",
    "\n",
    "        filename = \"/home/mr/PhD/Causality in AI/Sim2021/featureImp_dim{}_{}_r_{}_{}/KfoldQ_ps_nns{}.csv\"\\\n",
    "                                                                                    .format(n, p, r3, r4, niter)\n",
    "\n",
    "        data = pd.read_csv(filename)\n",
    "        print(data.shape)\n",
    "        break\n",
    "    break"
   ]
  },
  {
   "cell_type": "code",
   "execution_count": 92,
   "metadata": {},
   "outputs": [
    {
     "data": {
      "text/plain": [
       "3.14733046735185"
      ]
     },
     "execution_count": 92,
     "metadata": {},
     "output_type": "execute_result"
    }
   ],
   "source": [
    "MR(y=data['y'], \n",
    "   A=data['A'], \n",
    "   yhat1_df=data[[c for c in data.columns if 'yhat1' in c and 'oracle' not in c]],\n",
    "   yhat0_df=data[[c for c in data.columns if 'yhat0' in c and 'oracle' not in c]], \n",
    "   ps_df=data[[c for c in data.columns if 'ps' in c and 'oracle' not in c]], \n",
    "   temporary_csv_name='temporary-MR-data')"
   ]
  },
  {
   "cell_type": "code",
   "execution_count": null,
   "metadata": {},
   "outputs": [],
   "source": []
  },
  {
   "cell_type": "code",
   "execution_count": 87,
   "metadata": {},
   "outputs": [],
   "source": [
    "def mr_bootstrap(y, A, yhat1_df, yhat0_df, ps_df, temporary_csv_name, b=1000):\n",
    "    \n",
    "    N = yhat1_df.shape[1]\n",
    "    estimates = []\n",
    "    \n",
    "    for i in range(b):\n",
    "        \n",
    "        random_cols_yhat1 = random.choices(list(yhat1_df.columns), k=N)\n",
    "        random_cols_yhat0 = random.choices(list(yhat0_df.columns), k=N)\n",
    "        random_cols_ps = random.choices(list(ps_df.columns), k=N)\n",
    "        \n",
    "        estimates += [MR(y=y, \n",
    "                         A=A, \n",
    "                         yhat1_df=yhat1_df[random_cols_yhat1],\n",
    "                         yhat0_df=yhat0_df[random_cols_yhat0], \n",
    "                         ps_df=ps_df[random_cols_ps], \n",
    "                         temporary_csv_name='temporary-MR-data')\n",
    "                     ]\n",
    "    estimates = pd.Series(estimates)\n",
    "    \n",
    "    return estimates.quantile(.025), estimates.quantile(.975)\n"
   ]
  },
  {
   "cell_type": "code",
   "execution_count": null,
   "metadata": {},
   "outputs": [],
   "source": [
    "mr_boot = mr_bootstrap(y=data['y'], \n",
    "                       A=data['A'], \n",
    "                       yhat1_df=data[[c for c in data.columns if 'yhat1' in c and 'oracle' not in c][:5]],\n",
    "                       yhat0_df=data[[c for c in data.columns if 'yhat0' in c and 'oracle' not in c][:5]], \n",
    "                       ps_df=data[[c for c in data.columns if 'ps' in c and 'oracle' not in c][:5]], \n",
    "                       temporary_csv_name='temporary-MR-data',\n",
    "                       b=1000\n",
    "                      )"
   ]
  },
  {
   "cell_type": "code",
   "execution_count": null,
   "metadata": {},
   "outputs": [],
   "source": []
  },
  {
   "cell_type": "code",
   "execution_count": null,
   "metadata": {},
   "outputs": [],
   "source": []
  },
  {
   "cell_type": "code",
   "execution_count": null,
   "metadata": {},
   "outputs": [],
   "source": []
  },
  {
   "cell_type": "code",
   "execution_count": null,
   "metadata": {},
   "outputs": [],
   "source": []
  }
 ],
 "metadata": {
  "kernelspec": {
   "display_name": "Python 3",
   "language": "python",
   "name": "python3"
  },
  "language_info": {
   "codemirror_mode": {
    "name": "ipython",
    "version": 3
   },
   "file_extension": ".py",
   "mimetype": "text/x-python",
   "name": "python",
   "nbconvert_exporter": "python",
   "pygments_lexer": "ipython3",
   "version": "3.6.10"
  }
 },
 "nbformat": 4,
 "nbformat_minor": 4
}
