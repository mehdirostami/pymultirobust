{
 "cells": [
  {
   "cell_type": "code",
   "execution_count": 1,
   "metadata": {},
   "outputs": [
    {
     "name": "stderr",
     "output_type": "stream",
     "text": [
      "/home/mr/anaconda3/lib/python3.6/site-packages/ipykernel_launcher.py:23: FutureWarning:\n",
      "\n",
      "Passing a negative integer is deprecated in version 1.0 and will not be supported in future version. Instead, use None to not limit the column width.\n",
      "\n",
      "[MLENS] backend: threading\n"
     ]
    }
   ],
   "source": [
    "import numpy as np \n",
    "import pandas as pd\n",
    "import os\n",
    "\n",
    "from rpy2.robjects.packages import importr\n",
    "import rpy2.robjects as ro\n",
    "import rpy2.robjects.numpy2ri\n",
    "rpy2.robjects.numpy2ri.activate()\n",
    "\n",
    "pd.set_option('display.max_rows', None)\n",
    "pd.set_option('display.max_columns', None)\n",
    "pd.set_option('display.width', None)\n",
    "pd.set_option('display.max_colwidth', -1)\n",
    "import re"
   ]
  },
  {
   "cell_type": "code",
   "execution_count": 3,
   "metadata": {},
   "outputs": [],
   "source": [
    "n, p = 1000, 10\n",
    "\n",
    "x = np.random.normal(0, .5, size=(n, p))\n",
    "\n",
    "alpha = np.random.uniform(.2, .5, size=(p, 1))\n",
    "beta = np.random.uniform(.2, .5, size=(p, 1))\n",
    "\n",
    "xalpha = np.dot(x, alpha)\n",
    "xbeta = np.dot(x, beta)\n",
    "\n",
    "pr = 1/(1 + np.exp(-xalpha))\n",
    "A = np.random.binomial(1, pr, size=(n, 1))\n",
    "\n",
    "y = -1 + A + xbeta + np.random.normal(0, 1, size=(n, 1))\n"
   ]
  },
  {
   "cell_type": "code",
   "execution_count": 12,
   "metadata": {},
   "outputs": [],
   "source": [
    "def save_temporary_data_for_R(yhat1, yhat0, ps, A, y, file_name):\n",
    "    n = A.shape[0]\n",
    "    data = pd.DataFrame(columns=['ps','yhat1','yhat0', 'A', 'y'], index=[c for c in range(n)])\n",
    "    data['ps'] = ps\n",
    "    data['yhat1'] = yhat1\n",
    "    data['yhat0'] = yhat0\n",
    "    data['A'] = A\n",
    "    data['y'] = y\n",
    "    \n",
    "    data.to_csv(file_name+'.csv', index=False)\n",
    "    \n",
    "    return\n",
    "\n",
    "def read_temporary_data_in_R(file_name):\n",
    "    \n",
    "    _ = ro.r(f\"data_r <- read.csv('{file_name}.csv')\")\n",
    "\n",
    "    _ = ro.r('ps = matrix(data_r[, 1])')\n",
    "    _ = ro.r('yhat1 = data_r[, 2]')\n",
    "    _ = ro.r('yhat0 = data_r[, 3]')\n",
    "    _ = ro.r('A = data_r[, 4]')\n",
    "    _ = ro.r('y = data_r[, 5]')\n",
    "    return\n"
   ]
  },
  {
   "cell_type": "code",
   "execution_count": 13,
   "metadata": {},
   "outputs": [],
   "source": [
    "def run_MR_in_R():\n",
    "    _ = ro.r(\"\"\"\n",
    "    MREst.mean <- function(y, A, Qs, ps)\n",
    "    {\n",
    "\n",
    "        J <- length(ps)\n",
    "        K <- length(Qs)\n",
    "        g.col <- J + K \n",
    "\n",
    "        n <- length(y)\n",
    "\n",
    "        m <- sum(A) # number of observed subjects\n",
    "\n",
    "        g.hat <- matrix(0, n, g.col)\n",
    "\n",
    "        Qs = do.call(cbind, Qs)\n",
    "        ps = do.call(cbind, ps)\n",
    "        g.hat = cbind(Qs, ps)\n",
    "\n",
    "        g.hat <- scale(g.hat, center = TRUE, scale = FALSE)[A == 1, ]\n",
    "\n",
    "        # define the function to be minimized\n",
    "        Fn <- function(rho, ghat){ -sum(log(1 + ghat %*% rho)) }\n",
    "        Grd <- function(rho, ghat){ -colSums(ghat / c(1 + ghat %*% rho)) }\n",
    "\n",
    "        # calculate the weights\n",
    "        rho.hat <- constrOptim(theta = rep(0, g.col), \n",
    "                             f = Fn, \n",
    "                             grad = Grd, \n",
    "                             ui = g.hat, \n",
    "                             ci = rep(1 / m - 1, m), \n",
    "                             ghat = g.hat\n",
    "                             )$par\n",
    "\n",
    "        wts <- c(1 / m / (1 + g.hat %*% rho.hat))\n",
    "\n",
    "        wts <- wts / sum(wts)\n",
    "\n",
    "        estimate <- sum(y[A == 1] * wts)\n",
    "\n",
    "        return(list(estimate = estimate, weights = wts))\n",
    "\n",
    "    }\n",
    "    \"\"\")\n",
    "    return\n",
    "    "
   ]
  },
  {
   "cell_type": "code",
   "execution_count": 14,
   "metadata": {},
   "outputs": [],
   "source": [
    "def MR(y, A, yhat1, yhat0, ps, temporary_csv_name):\n",
    "    \n",
    "    run_MR_in_R()\n",
    "    \n",
    "    save_temporary_data_for_R(yhat1, yhat0, ps, A, y, file_name=temporary_csv_name)\n",
    "    read_temporary_data_in_R(temporary_csv_name)\n",
    "    \n",
    "    uuu = importr(\"MultiRobust\")\n",
    "    ro.r('library(\"MultiRobust\")')\n",
    "\n",
    "    ro.r('result <- MREst.mean(y = y, A=A, Qs= list(yhat1), ps=list(ps))')\n",
    "\n",
    "    beta1 = np.array(ro.r(\"result$estimate\"))[0]\n",
    "\n",
    "    ro.r('result <- MREst.mean(y = y, A=1-A, Qs= list(yhat0), ps=list(1-ps))')\n",
    "    beta0 = np.array(ro.r(\"result$estimate\"))[0]\n",
    "\n",
    "    return beta1 - beta0"
   ]
  },
  {
   "cell_type": "code",
   "execution_count": 15,
   "metadata": {},
   "outputs": [
    {
     "data": {
      "text/plain": [
       "1.0345543041749632"
      ]
     },
     "execution_count": 15,
     "metadata": {},
     "output_type": "execute_result"
    }
   ],
   "source": [
    "MR(y=y, \n",
    "   A=A, \n",
    "   yhat1=-1 + 1 + xbeta + np.random.normal(0, 1, size=(n, 1)), \n",
    "   yhat0=-1 + xbeta + np.random.normal(0, 1, size=(n, 1)), \n",
    "   ps=pr, \n",
    "   temporary_csv_name='temporary-MR-data')"
   ]
  },
  {
   "cell_type": "code",
   "execution_count": null,
   "metadata": {},
   "outputs": [],
   "source": []
  },
  {
   "cell_type": "code",
   "execution_count": null,
   "metadata": {},
   "outputs": [],
   "source": []
  },
  {
   "cell_type": "code",
   "execution_count": null,
   "metadata": {},
   "outputs": [],
   "source": []
  }
 ],
 "metadata": {
  "kernelspec": {
   "display_name": "Python 3",
   "language": "python",
   "name": "python3"
  },
  "language_info": {
   "codemirror_mode": {
    "name": "ipython",
    "version": 3
   },
   "file_extension": ".py",
   "mimetype": "text/x-python",
   "name": "python",
   "nbconvert_exporter": "python",
   "pygments_lexer": "ipython3",
   "version": "3.6.10"
  }
 },
 "nbformat": 4,
 "nbformat_minor": 4
}
